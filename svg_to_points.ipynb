{
 "cells": [
  {
   "cell_type": "code",
   "execution_count": 40,
   "metadata": {},
   "outputs": [],
   "source": [
    "from svg.path import parse_path\n",
    "from xml.dom import minidom\n",
    "import numpy as np\n",
    "import matplotlib.pyplot as plt\n",
    "import math"
   ]
  },
  {
   "cell_type": "code",
   "execution_count": 25,
   "metadata": {},
   "outputs": [],
   "source": [
    "def centerData(data):\n",
    "    xMean = np.mean(data[:,0])\n",
    "    yMean = np.mean(data[:,1])\n",
    "    return np.array([np.array([x[0]-xMean, x[1]-yMean]) for x in data])"
   ]
  },
  {
   "cell_type": "code",
   "execution_count": 27,
   "metadata": {},
   "outputs": [],
   "source": [
    "def flipVert(data):\n",
    "    return np.array([np.array([x[0], -x[1]]) for x in data])"
   ]
  },
  {
   "cell_type": "code",
   "execution_count": 95,
   "metadata": {},
   "outputs": [],
   "source": [
    "def get_point_at(path, distance, scale, offset):\n",
    "    pos = path.point(distance)\n",
    "    pos += offset\n",
    "    pos *= scale\n",
    "    return pos.real, pos.imag\n",
    "\n",
    "\n",
    "def points_from_path(path, density, scale, offset):\n",
    "    step = int(path.length() * density)\n",
    "    last_step = step - 1\n",
    "\n",
    "    if last_step == 0:\n",
    "        yield get_point_at(path, 0, scale, offset)\n",
    "        return\n",
    "\n",
    "    for distance in range(step):\n",
    "        yield get_point_at(\n",
    "            path, distance / last_step, scale, offset)\n",
    "\n",
    "\n",
    "def points_from_doc(doc, density=5, scale=1, offset=0):\n",
    "    offset = offset[0] + offset[1] * 1j\n",
    "    points = []\n",
    "    for element in doc.getElementsByTagName(\"path\"):\n",
    "        for path in parse_path(element.getAttribute(\"d\")):\n",
    "            points.extend(points_from_path(\n",
    "                path, density, scale, offset))\n",
    "\n",
    "    return points\n",
    "\n",
    "# limit is the x and -x and y and -y limit at the same time \n",
    "def getPointsFromSVG(path, density, limit=None):\n",
    "    f = open(path, \"r\")\n",
    "    string = f.read()\n",
    "    doc = minidom.parseString(string)\n",
    "    points = np.array(points_from_doc(doc, density=density, scale=5, offset=(0, 5)))\n",
    "    doc.unlink()\n",
    "\n",
    "    # print(string)\n",
    "    # print(doc)\n",
    "\n",
    "    # flip points vertically\n",
    "    points = flipVert(points)\n",
    "\n",
    "    # centering data at 0\n",
    "    points = centerData(points)\n",
    "\n",
    "    # scale data\n",
    "    if(limit):\n",
    "        maxX = max([abs(x) for x in points[:,0]])\n",
    "        maxY = max([abs(x) for x in points[:,1]])\n",
    "        maxAll = max(maxX, maxY)\n",
    "        scale = limit/maxAll\n",
    "        points = np.array([np.array([\n",
    "            x[0]*scale, \n",
    "            x[1]*scale\n",
    "        ]) for x in points])\n",
    "\n",
    "    return points"
   ]
  },
  {
   "cell_type": "code",
   "execution_count": 96,
   "metadata": {},
   "outputs": [
    {
     "data": {
      "image/png": "[encoded data removed]",
      "text/plain": [
       "<Figure size 640x480 with 1 Axes>"
      ]
     },
     "metadata": {},
     "output_type": "display_data"
    }
   ],
   "source": [
    "# try code\n",
    "points = getPointsFromSVG(\"./svg/heart.svg\", .5, 10)\n",
    "\n",
    "ax = plt.gca()\n",
    "ax.set_aspect('equal', adjustable='box')\n",
    "plt.scatter(points[:,0], points[:,1], s=1);\n"
   ]
  },
  {
   "cell_type": "code",
   "execution_count": 97,
   "metadata": {},
   "outputs": [
    {
     "data": {
      "text/plain": [
       "4.173207798448995"
      ]
     },
     "execution_count": 97,
     "metadata": {},
     "output_type": "execute_result"
    }
   ],
   "source": [
    "def closest_node(node, nodes):\n",
    "    dist = [np.linalg.norm(x - node) for x in nodes]\n",
    "    return min(dist)\n",
    "\n",
    "closest_node(np.array([0, -2]), points)"
   ]
  },
  {
   "attachments": {},
   "cell_type": "markdown",
   "metadata": {},
   "source": [
    "# Accuracy between two arrays of points"
   ]
  },
  {
   "cell_type": "code",
   "execution_count": 106,
   "metadata": {},
   "outputs": [],
   "source": [
    "def accuracy(predicted, target):\n",
    "    accumulatedAcc = 0\n",
    "    for i in predicted:\n",
    "        accumulatedAcc += closest_node(i, target)\n",
    "    if accumulatedAcc != 0:\n",
    "        accumulatedAcc = math.log(accumulatedAcc, 10)\n",
    "    return accumulatedAcc"
   ]
  },
  {
   "cell_type": "code",
   "execution_count": 99,
   "metadata": {},
   "outputs": [
    {
     "name": "stdout",
     "output_type": "stream",
     "text": [
      "0.0\n"
     ]
    }
   ],
   "source": [
    "print(accuracy(points, points))"
   ]
  },
  {
   "attachments": {},
   "cell_type": "markdown",
   "metadata": {},
   "source": [
    "## Testing accuracy"
   ]
  },
  {
   "cell_type": "code",
   "execution_count": 107,
   "metadata": {},
   "outputs": [
    {
     "name": "stdout",
     "output_type": "stream",
     "text": [
      "5.272782537628834\n",
      "4.033828523903938\n"
     ]
    },
    {
     "data": {
      "image/png": "[encoded data removed]",
      "text/plain": [
       "<Figure size 640x480 with 1 Axes>"
      ]
     },
     "metadata": {},
     "output_type": "display_data"
    }
   ],
   "source": [
    "# try code\n",
    "pointsSmall  = getPointsFromSVG(\"./svg/squareSmall.svg\",  .5)\n",
    "pointsMedium = getPointsFromSVG(\"./svg/squareMedium.svg\", .5)\n",
    "pointsLarge  = getPointsFromSVG(\"./svg/squareLarge.svg\",  .5)\n",
    "\n",
    "ax = plt.gca()\n",
    "ax.set_aspect('equal', adjustable='box')\n",
    "plt.scatter(pointsSmall[:,0], pointsSmall[:,1], s=1);\n",
    "plt.scatter(pointsMedium[:,0], pointsMedium[:,1], s=1);\n",
    "plt.scatter(pointsLarge[:,0], pointsLarge[:,1], s=1);\n",
    "\n",
    "print(accuracy(pointsLarge, pointsSmall))\n",
    "print(accuracy(pointsLarge, pointsMedium))"
   ]
  }
 ],
 "metadata": {
  "kernelspec": {
   "display_name": "in3050",
   "language": "python",
   "name": "python3"
  },
  "language_info": {
   "codemirror_mode": {
    "name": "ipython",
    "version": 3
   },
   "file_extension": ".py",
   "mimetype": "text/x-python",
   "name": "python",
   "nbconvert_exporter": "python",
   "pygments_lexer": "ipython3",
   "version": "3.10.9"
  },
  "orig_nbformat": 4
 },
 "nbformat": 4,
 "nbformat_minor": 2
}
