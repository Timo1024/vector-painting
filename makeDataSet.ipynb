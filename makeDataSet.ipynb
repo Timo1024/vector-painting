{
 "cells": [
  {
   "attachments": {},
   "cell_type": "markdown",
   "metadata": {},
   "source": [
    "# Imports"
   ]
  },
  {
   "cell_type": "code",
   "execution_count": 1,
   "metadata": {},
   "outputs": [],
   "source": [
    "import numpy as np\n",
    "import matplotlib.pyplot as plt\n",
    "import random\n",
    "import math\n",
    "from matplotlib.animation import FuncAnimation\n",
    "from functools import partial\n",
    "import itertools\n",
    "import matplotlib.animation as animation"
   ]
  },
  {
   "attachments": {},
   "cell_type": "markdown",
   "metadata": {},
   "source": [
    "# Class Vector with all functions\n"
   ]
  },
  {
   "cell_type": "code",
   "execution_count": 2,
   "metadata": {},
   "outputs": [],
   "source": [
    "class Vector:\n",
    "\n",
    "    # angle between 0 and 360\n",
    "    # length positive float max value = 10\n",
    "    # speed negative or positive float between -1 and 1\n",
    "    def __init__(self, angle, length, speed) -> None:\n",
    "        assert angle >= 0   and angle <= 360\n",
    "        assert length <= 10 and length > 0\n",
    "        assert speed >= -1  and speed <= 1\n",
    "        self.angle  = angle\n",
    "        self.length = length\n",
    "        self.speed  = speed\n",
    "\n",
    "        self.endpoint = self.getEndpoint()\n",
    "        self.radius   = self.getRadius()\n",
    "\n",
    "        self.origin = [0, 0]\n",
    "\n",
    "    def getEndpoint(self) -> list:\n",
    "        angle = self.angle * math.pi / 180; \n",
    "        x = self.length * math.sin(angle)\n",
    "        y = self.length * math.cos(angle)\n",
    "        return [x, y]\n",
    "\n",
    "    def getRadius(self) -> float:\n",
    "        return math.sqrt(self.endpoint[0]*self.endpoint[0] + self.endpoint[1]*self.endpoint[1])\n",
    "\n",
    "    # FIXME speed has to be adjusted\n",
    "    def getTimedEndpoint(self, time) -> list:\n",
    "        fixedSpeed = 10\n",
    "        angleIncrement = fixedSpeed * self.speed * time\n",
    "        angle = ((self.angle + angleIncrement) % 360) * math.pi / 180; \n",
    "        x = self.length * math.sin(angle)\n",
    "        y = self.length * math.cos(angle)\n",
    "        return [x, y]\n",
    "    \n",
    "    def setOrigin(self, origin):\n",
    "        self.origin = origin"
   ]
  },
  {
   "attachments": {},
   "cell_type": "markdown",
   "metadata": {},
   "source": [
    "# Class for a datapoint"
   ]
  },
  {
   "cell_type": "code",
   "execution_count": null,
   "metadata": {},
   "outputs": [],
   "source": [
    "class Datapoint():\n",
    "\n",
    "    def __init__(self, time) -> None:\n",
    "        self.time = time\n",
    "        self.points = None\n",
    "        self.vectors = []\n",
    "\n",
    "    def addVector(self, vector):\n",
    "        self.vectors.append(vector)\n",
    "    \n",
    "    def setPoints(self, points):\n",
    "        self.points = points\n",
    "\n",
    "    def getTime(self):\n",
    "        return self.time\n",
    "    \n",
    "    def getPoints(self):\n",
    "        return self.points\n",
    "    \n",
    "    def getVectors(self):\n",
    "        return self.vectors"
   ]
  }
 ],
 "metadata": {
  "kernelspec": {
   "display_name": "in3050",
   "language": "python",
   "name": "python3"
  },
  "language_info": {
   "codemirror_mode": {
    "name": "ipython",
    "version": 3
   },
   "file_extension": ".py",
   "mimetype": "text/x-python",
   "name": "python",
   "nbconvert_exporter": "python",
   "pygments_lexer": "ipython3",
   "version": "3.10.9"
  },
  "orig_nbformat": 4
 },
 "nbformat": 4,
 "nbformat_minor": 2
}
