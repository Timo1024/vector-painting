{
 "cells": [
  {
   "attachments": {},
   "cell_type": "markdown",
   "metadata": {},
   "source": [
    "# Imports"
   ]
  },
  {
   "cell_type": "code",
   "execution_count": 14,
   "metadata": {},
   "outputs": [],
   "source": [
    "import numpy as np\n",
    "import matplotlib.pyplot as plt\n",
    "import random\n",
    "import math\n",
    "from matplotlib.animation import FuncAnimation\n",
    "from functools import partial\n",
    "import itertools\n",
    "import matplotlib.animation as animation\n",
    "import os\n",
    "from IPython.display import clear_output\n",
    "import json"
   ]
  },
  {
   "attachments": {},
   "cell_type": "markdown",
   "metadata": {},
   "source": [
    "# Class Vector with all functions\n"
   ]
  },
  {
   "cell_type": "code",
   "execution_count": 15,
   "metadata": {},
   "outputs": [],
   "source": [
    "class Vector:\n",
    "\n",
    "    # angle between 0 and 360\n",
    "    # length positive float max value = 10\n",
    "    # speed negative or positive float between -1 and 1\n",
    "    def __init__(self, angle, length, speed) -> None:\n",
    "        assert angle >= 0   and angle <= 360\n",
    "        assert length <= 10 and length > 0\n",
    "        assert speed >= -1  and speed <= 1\n",
    "        self.angle  = angle\n",
    "        self.length = length\n",
    "        self.speed  = speed\n",
    "\n",
    "        self.endpoint = self.getEndpoint()\n",
    "        self.radius   = self.getRadius()\n",
    "\n",
    "        self.origin = [0, 0]\n",
    "\n",
    "    def getEndpoint(self) -> list:\n",
    "        angle = self.angle * math.pi / 180; \n",
    "        x = self.length * math.sin(angle)\n",
    "        y = self.length * math.cos(angle)\n",
    "        return [x, y]\n",
    "\n",
    "    def getRadius(self) -> float:\n",
    "        return math.sqrt(self.endpoint[0]*self.endpoint[0] + self.endpoint[1]*self.endpoint[1])\n",
    "\n",
    "    # FIXME speed has to be adjusted\n",
    "    def getTimedEndpoint(self, time) -> list:\n",
    "        fixedSpeed = 10\n",
    "        angleIncrement = fixedSpeed * self.speed * time\n",
    "        angle = ((self.angle + angleIncrement) % 360) * math.pi / 180; \n",
    "        x = self.length * math.sin(angle)\n",
    "        y = self.length * math.cos(angle)\n",
    "        return [x, y]\n",
    "    \n",
    "    def setOrigin(self, origin):\n",
    "        self.origin = origin"
   ]
  },
  {
   "attachments": {},
   "cell_type": "markdown",
   "metadata": {},
   "source": [
    "# Class for a datapoint"
   ]
  },
  {
   "cell_type": "code",
   "execution_count": 16,
   "metadata": {},
   "outputs": [],
   "source": [
    "class Datapoint():\n",
    "\n",
    "    def __init__(self, time) -> None:\n",
    "        self.time = time\n",
    "        self.points = None\n",
    "        self.vectors = []\n",
    "\n",
    "    def addVector(self, vector):\n",
    "        self.vectors.append(vector)\n",
    "    \n",
    "    def setPoints(self, points):\n",
    "        self.points = points\n",
    "\n",
    "    def getTime(self):\n",
    "        return self.time\n",
    "    \n",
    "    def getPoints(self):\n",
    "        return self.points\n",
    "    \n",
    "    def getVectors(self):\n",
    "        return self.vectors"
   ]
  },
  {
   "attachments": {},
   "cell_type": "markdown",
   "metadata": {},
   "source": [
    "# Creating n instances of Vector in a list\n"
   ]
  },
  {
   "cell_type": "code",
   "execution_count": 20,
   "metadata": {},
   "outputs": [],
   "source": [
    "def createVectors(n, datapoint) -> list:\n",
    "    vectors = []\n",
    "    for i in range(n):\n",
    "\n",
    "        # initializing random angle, length and speed\n",
    "\n",
    "        angleNormalize = random.random()\n",
    "        angle  = angleNormalize * 360\n",
    "\n",
    "        lengthNormalize = random.random()\n",
    "        length = lengthNormalize * 10\n",
    "        if length == 0:\n",
    "            length = 1\n",
    "\n",
    "        speedNormalize = random.random()\n",
    "        speed  = (speedNormalize - .5) * 2\n",
    "\n",
    "        newVector = Vector(angle, length, speed)\n",
    "\n",
    "        vectors.append(newVector)\n",
    "\n",
    "        datapoint.addVector([lengthNormalize, angleNormalize, speedNormalize])\n",
    "\n",
    "    return vectors"
   ]
  },
  {
   "attachments": {},
   "cell_type": "markdown",
   "metadata": {},
   "source": [
    "# getting the end points"
   ]
  },
  {
   "cell_type": "code",
   "execution_count": 21,
   "metadata": {},
   "outputs": [],
   "source": [
    "# getting end of all vectors\n",
    "def getEnd(vectors, t):\n",
    "    end = np.array([0, 0])\n",
    "    for i in vectors:\n",
    "        end = end + np.array(i.getTimedEndpoint(t))\n",
    "    return end\n",
    "\n",
    "# loop through n frames and return all endpoints\n",
    "def getAllEnds(vectors, n):\n",
    "    ends = []\n",
    "    for i in range(n):\n",
    "        ends.append(getEnd(vectors, i))\n",
    "    return ends"
   ]
  },
  {
   "attachments": {},
   "cell_type": "markdown",
   "metadata": {},
   "source": [
    "# getting the data set"
   ]
  },
  {
   "cell_type": "code",
   "execution_count": 26,
   "metadata": {},
   "outputs": [
    {
     "name": "stdout",
     "output_type": "stream",
     "text": [
      "0\n"
     ]
    },
    {
     "ename": "TypeError",
     "evalue": "Object of type ndarray is not JSON serializable",
     "output_type": "error",
     "traceback": [
      "\u001b[1;31m---------------------------------------------------------------------------\u001b[0m",
      "\u001b[1;31mTypeError\u001b[0m                                 Traceback (most recent call last)",
      "Cell \u001b[1;32mIn[26], line 49\u001b[0m\n\u001b[0;32m     47\u001b[0m     data[\u001b[39mstr\u001b[39m(maxID)] \u001b[39m=\u001b[39m dataDict\n\u001b[0;32m     48\u001b[0m     f\u001b[39m.\u001b[39mseek(\u001b[39m0\u001b[39m)\n\u001b[1;32m---> 49\u001b[0m     json\u001b[39m.\u001b[39;49mdump(data, f, indent\u001b[39m=\u001b[39;49m\u001b[39m4\u001b[39;49m)\n\u001b[0;32m     50\u001b[0m     f\u001b[39m.\u001b[39mtruncate()\n\u001b[0;32m     52\u001b[0m clear_output(wait\u001b[39m=\u001b[39m\u001b[39mTrue\u001b[39;00m)\n",
      "File \u001b[1;32mc:\\Users\\Robin\\anaconda3\\envs\\in3050\\lib\\json\\__init__.py:179\u001b[0m, in \u001b[0;36mdump\u001b[1;34m(obj, fp, skipkeys, ensure_ascii, check_circular, allow_nan, cls, indent, separators, default, sort_keys, **kw)\u001b[0m\n\u001b[0;32m    173\u001b[0m     iterable \u001b[39m=\u001b[39m \u001b[39mcls\u001b[39m(skipkeys\u001b[39m=\u001b[39mskipkeys, ensure_ascii\u001b[39m=\u001b[39mensure_ascii,\n\u001b[0;32m    174\u001b[0m         check_circular\u001b[39m=\u001b[39mcheck_circular, allow_nan\u001b[39m=\u001b[39mallow_nan, indent\u001b[39m=\u001b[39mindent,\n\u001b[0;32m    175\u001b[0m         separators\u001b[39m=\u001b[39mseparators,\n\u001b[0;32m    176\u001b[0m         default\u001b[39m=\u001b[39mdefault, sort_keys\u001b[39m=\u001b[39msort_keys, \u001b[39m*\u001b[39m\u001b[39m*\u001b[39mkw)\u001b[39m.\u001b[39miterencode(obj)\n\u001b[0;32m    177\u001b[0m \u001b[39m# could accelerate with writelines in some versions of Python, at\u001b[39;00m\n\u001b[0;32m    178\u001b[0m \u001b[39m# a debuggability cost\u001b[39;00m\n\u001b[1;32m--> 179\u001b[0m \u001b[39mfor\u001b[39;00m chunk \u001b[39min\u001b[39;00m iterable:\n\u001b[0;32m    180\u001b[0m     fp\u001b[39m.\u001b[39mwrite(chunk)\n",
      "File \u001b[1;32mc:\\Users\\Robin\\anaconda3\\envs\\in3050\\lib\\json\\encoder.py:431\u001b[0m, in \u001b[0;36m_make_iterencode.<locals>._iterencode\u001b[1;34m(o, _current_indent_level)\u001b[0m\n\u001b[0;32m    429\u001b[0m     \u001b[39myield from\u001b[39;00m _iterencode_list(o, _current_indent_level)\n\u001b[0;32m    430\u001b[0m \u001b[39melif\u001b[39;00m \u001b[39misinstance\u001b[39m(o, \u001b[39mdict\u001b[39m):\n\u001b[1;32m--> 431\u001b[0m     \u001b[39myield from\u001b[39;00m _iterencode_dict(o, _current_indent_level)\n\u001b[0;32m    432\u001b[0m \u001b[39melse\u001b[39;00m:\n\u001b[0;32m    433\u001b[0m     \u001b[39mif\u001b[39;00m markers \u001b[39mis\u001b[39;00m \u001b[39mnot\u001b[39;00m \u001b[39mNone\u001b[39;00m:\n",
      "File \u001b[1;32mc:\\Users\\Robin\\anaconda3\\envs\\in3050\\lib\\json\\encoder.py:405\u001b[0m, in \u001b[0;36m_make_iterencode.<locals>._iterencode_dict\u001b[1;34m(dct, _current_indent_level)\u001b[0m\n\u001b[0;32m    403\u001b[0m         \u001b[39melse\u001b[39;00m:\n\u001b[0;32m    404\u001b[0m             chunks \u001b[39m=\u001b[39m _iterencode(value, _current_indent_level)\n\u001b[1;32m--> 405\u001b[0m         \u001b[39myield from\u001b[39;00m chunks\n\u001b[0;32m    406\u001b[0m \u001b[39mif\u001b[39;00m newline_indent \u001b[39mis\u001b[39;00m \u001b[39mnot\u001b[39;00m \u001b[39mNone\u001b[39;00m:\n\u001b[0;32m    407\u001b[0m     _current_indent_level \u001b[39m-\u001b[39m\u001b[39m=\u001b[39m \u001b[39m1\u001b[39m\n",
      "File \u001b[1;32mc:\\Users\\Robin\\anaconda3\\envs\\in3050\\lib\\json\\encoder.py:405\u001b[0m, in \u001b[0;36m_make_iterencode.<locals>._iterencode_dict\u001b[1;34m(dct, _current_indent_level)\u001b[0m\n\u001b[0;32m    403\u001b[0m         \u001b[39melse\u001b[39;00m:\n\u001b[0;32m    404\u001b[0m             chunks \u001b[39m=\u001b[39m _iterencode(value, _current_indent_level)\n\u001b[1;32m--> 405\u001b[0m         \u001b[39myield from\u001b[39;00m chunks\n\u001b[0;32m    406\u001b[0m \u001b[39mif\u001b[39;00m newline_indent \u001b[39mis\u001b[39;00m \u001b[39mnot\u001b[39;00m \u001b[39mNone\u001b[39;00m:\n\u001b[0;32m    407\u001b[0m     _current_indent_level \u001b[39m-\u001b[39m\u001b[39m=\u001b[39m \u001b[39m1\u001b[39m\n",
      "File \u001b[1;32mc:\\Users\\Robin\\anaconda3\\envs\\in3050\\lib\\json\\encoder.py:325\u001b[0m, in \u001b[0;36m_make_iterencode.<locals>._iterencode_list\u001b[1;34m(lst, _current_indent_level)\u001b[0m\n\u001b[0;32m    323\u001b[0m         \u001b[39melse\u001b[39;00m:\n\u001b[0;32m    324\u001b[0m             chunks \u001b[39m=\u001b[39m _iterencode(value, _current_indent_level)\n\u001b[1;32m--> 325\u001b[0m         \u001b[39myield from\u001b[39;00m chunks\n\u001b[0;32m    326\u001b[0m \u001b[39mif\u001b[39;00m newline_indent \u001b[39mis\u001b[39;00m \u001b[39mnot\u001b[39;00m \u001b[39mNone\u001b[39;00m:\n\u001b[0;32m    327\u001b[0m     _current_indent_level \u001b[39m-\u001b[39m\u001b[39m=\u001b[39m \u001b[39m1\u001b[39m\n",
      "File \u001b[1;32mc:\\Users\\Robin\\anaconda3\\envs\\in3050\\lib\\json\\encoder.py:438\u001b[0m, in \u001b[0;36m_make_iterencode.<locals>._iterencode\u001b[1;34m(o, _current_indent_level)\u001b[0m\n\u001b[0;32m    436\u001b[0m         \u001b[39mraise\u001b[39;00m \u001b[39mValueError\u001b[39;00m(\u001b[39m\"\u001b[39m\u001b[39mCircular reference detected\u001b[39m\u001b[39m\"\u001b[39m)\n\u001b[0;32m    437\u001b[0m     markers[markerid] \u001b[39m=\u001b[39m o\n\u001b[1;32m--> 438\u001b[0m o \u001b[39m=\u001b[39m _default(o)\n\u001b[0;32m    439\u001b[0m \u001b[39myield from\u001b[39;00m _iterencode(o, _current_indent_level)\n\u001b[0;32m    440\u001b[0m \u001b[39mif\u001b[39;00m markers \u001b[39mis\u001b[39;00m \u001b[39mnot\u001b[39;00m \u001b[39mNone\u001b[39;00m:\n",
      "File \u001b[1;32mc:\\Users\\Robin\\anaconda3\\envs\\in3050\\lib\\json\\encoder.py:179\u001b[0m, in \u001b[0;36mJSONEncoder.default\u001b[1;34m(self, o)\u001b[0m\n\u001b[0;32m    160\u001b[0m \u001b[39mdef\u001b[39;00m \u001b[39mdefault\u001b[39m(\u001b[39mself\u001b[39m, o):\n\u001b[0;32m    161\u001b[0m     \u001b[39m\"\"\"Implement this method in a subclass such that it returns\u001b[39;00m\n\u001b[0;32m    162\u001b[0m \u001b[39m    a serializable object for ``o``, or calls the base implementation\u001b[39;00m\n\u001b[0;32m    163\u001b[0m \u001b[39m    (to raise a ``TypeError``).\u001b[39;00m\n\u001b[1;32m   (...)\u001b[0m\n\u001b[0;32m    177\u001b[0m \n\u001b[0;32m    178\u001b[0m \u001b[39m    \"\"\"\u001b[39;00m\n\u001b[1;32m--> 179\u001b[0m     \u001b[39mraise\u001b[39;00m \u001b[39mTypeError\u001b[39;00m(\u001b[39mf\u001b[39m\u001b[39m'\u001b[39m\u001b[39mObject of type \u001b[39m\u001b[39m{\u001b[39;00mo\u001b[39m.\u001b[39m\u001b[39m__class__\u001b[39m\u001b[39m.\u001b[39m\u001b[39m__name__\u001b[39m\u001b[39m}\u001b[39;00m\u001b[39m \u001b[39m\u001b[39m'\u001b[39m\n\u001b[0;32m    180\u001b[0m                     \u001b[39mf\u001b[39m\u001b[39m'\u001b[39m\u001b[39mis not JSON serializable\u001b[39m\u001b[39m'\u001b[39m)\n",
      "\u001b[1;31mTypeError\u001b[0m: Object of type ndarray is not JSON serializable"
     ]
    }
   ],
   "source": [
    "vectorAmount = 10\n",
    "amount       = 10\n",
    "\n",
    "filenamePrefix = f\"dataVectors{vectorAmount}Datapoints{amount}-\"\n",
    "filenameSuffixStart = 0\n",
    "notFound = False\n",
    "\n",
    "while (not notFound):\n",
    "    if (os.path.isfile(f\"./data/{filenamePrefix}{filenameSuffixStart}.json\")):\n",
    "        filenameSuffixStart += 1\n",
    "    else:\n",
    "        notFound = True\n",
    "\n",
    "filename = f\"./data/{filenamePrefix}{filenameSuffixStart}.json\"\n",
    "\n",
    "with open(filename, 'w') as f:\n",
    "    dictEmpty = {}\n",
    "    jsonObject = json.dumps(dictEmpty, indent=4)\n",
    "    f.write(jsonObject)\n",
    "\n",
    "for i in range(amount):\n",
    "\n",
    "    time = random.randint(100, 1000)\n",
    "    newDatapoint = Datapoint(time)\n",
    "\n",
    "    vectors = createVectors(vectorAmount, newDatapoint)\n",
    "    points  = getAllEnds(vectors, time)\n",
    "\n",
    "    newDatapoint.setPoints(points)\n",
    "\n",
    "    dataDict = {\n",
    "        \"points\" : newDatapoint.getPoints(),\n",
    "        \"vectors\" : newDatapoint.getVectors(),\n",
    "        \"time\" : newDatapoint.getTime()\n",
    "    }\n",
    "\n",
    "    with open(filename, 'r+') as f:\n",
    "        data = json.load(f)\n",
    "\n",
    "        if(bool(data)):\n",
    "            maxID = max([int(x) for x in data.keys()])+1\n",
    "        else:\n",
    "            maxID = 0\n",
    "        \n",
    "        data[str(maxID)] = dataDict\n",
    "        f.seek(0)\n",
    "        json.dump(data, f, indent=4)\n",
    "        f.truncate()\n",
    "\n",
    "    clear_output(wait=True)\n",
    "    print(f\"datapoint \\#{i}\")"
   ]
  }
 ],
 "metadata": {
  "kernelspec": {
   "display_name": "in3050",
   "language": "python",
   "name": "python3"
  },
  "language_info": {
   "codemirror_mode": {
    "name": "ipython",
    "version": 3
   },
   "file_extension": ".py",
   "mimetype": "text/x-python",
   "name": "python",
   "nbconvert_exporter": "python",
   "pygments_lexer": "ipython3",
   "version": "3.10.9"
  },
  "orig_nbformat": 4
 },
 "nbformat": 4,
 "nbformat_minor": 2
}
