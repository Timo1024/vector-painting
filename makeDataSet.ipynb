{
 "cells": [
  {
   "attachments": {},
   "cell_type": "markdown",
   "metadata": {},
   "source": [
    "# Imports"
   ]
  },
  {
   "cell_type": "code",
   "execution_count": 14,
   "metadata": {},
   "outputs": [],
   "source": [
    "import numpy as np\n",
    "import matplotlib.pyplot as plt\n",
    "import random\n",
    "import math\n",
    "from matplotlib.animation import FuncAnimation\n",
    "from functools import partial\n",
    "import itertools\n",
    "import matplotlib.animation as animation\n",
    "import os\n",
    "from IPython.display import clear_output\n",
    "import json"
   ]
  },
  {
   "attachments": {},
   "cell_type": "markdown",
   "metadata": {},
   "source": [
    "# Class Vector with all functions\n"
   ]
  },
  {
   "cell_type": "code",
   "execution_count": 15,
   "metadata": {},
   "outputs": [],
   "source": [
    "class Vector:\n",
    "\n",
    "    # angle between 0 and 360\n",
    "    # length positive float max value = 10\n",
    "    # speed negative or positive float between -1 and 1\n",
    "    def __init__(self, angle, length, speed) -> None:\n",
    "        assert angle >= 0   and angle <= 360\n",
    "        assert length <= 10 and length > 0\n",
    "        assert speed >= -1  and speed <= 1\n",
    "        self.angle  = angle\n",
    "        self.length = length\n",
    "        self.speed  = speed\n",
    "\n",
    "        self.endpoint = self.getEndpoint()\n",
    "        self.radius   = self.getRadius()\n",
    "\n",
    "        self.origin = [0, 0]\n",
    "\n",
    "    def getEndpoint(self) -> list:\n",
    "        angle = self.angle * math.pi / 180; \n",
    "        x = self.length * math.sin(angle)\n",
    "        y = self.length * math.cos(angle)\n",
    "        return [x, y]\n",
    "\n",
    "    def getRadius(self) -> float:\n",
    "        return math.sqrt(self.endpoint[0]*self.endpoint[0] + self.endpoint[1]*self.endpoint[1])\n",
    "\n",
    "    # FIXME speed has to be adjusted\n",
    "    def getTimedEndpoint(self, time) -> list:\n",
    "        fixedSpeed = 10\n",
    "        angleIncrement = fixedSpeed * self.speed * time\n",
    "        angle = ((self.angle + angleIncrement) % 360) * math.pi / 180; \n",
    "        x = self.length * math.sin(angle)\n",
    "        y = self.length * math.cos(angle)\n",
    "        return [x, y]\n",
    "    \n",
    "    def setOrigin(self, origin):\n",
    "        self.origin = origin"
   ]
  },
  {
   "attachments": {},
   "cell_type": "markdown",
   "metadata": {},
   "source": [
    "# Class for a datapoint"
   ]
  },
  {
   "cell_type": "code",
   "execution_count": 16,
   "metadata": {},
   "outputs": [],
   "source": [
    "class Datapoint():\n",
    "\n",
    "    def __init__(self, time) -> None:\n",
    "        self.time = time\n",
    "        self.points = None\n",
    "        self.vectors = []\n",
    "\n",
    "    def addVector(self, vector):\n",
    "        self.vectors.append(vector)\n",
    "    \n",
    "    def setPoints(self, points):\n",
    "        self.points = points\n",
    "\n",
    "    def getTime(self):\n",
    "        return self.time\n",
    "    \n",
    "    def getPoints(self):\n",
    "        return self.points\n",
    "    \n",
    "    def getVectors(self):\n",
    "        return self.vectors"
   ]
  },
  {
   "attachments": {},
   "cell_type": "markdown",
   "metadata": {},
   "source": [
    "# Creating n instances of Vector in a list\n"
   ]
  },
  {
   "cell_type": "code",
   "execution_count": 20,
   "metadata": {},
   "outputs": [],
   "source": [
    "def createVectors(n, datapoint) -> list:\n",
    "    vectors = []\n",
    "    for i in range(n):\n",
    "\n",
    "        # initializing random angle, length and speed\n",
    "\n",
    "        angleNormalize = random.random()\n",
    "        angle  = angleNormalize * 360\n",
    "\n",
    "        lengthNormalize = random.random()\n",
    "        length = lengthNormalize * 10\n",
    "        if length == 0:\n",
    "            length = 1\n",
    "\n",
    "        speedNormalize = random.random()\n",
    "        speed  = (speedNormalize - .5) * 2\n",
    "\n",
    "        newVector = Vector(angle, length, speed)\n",
    "\n",
    "        vectors.append(newVector)\n",
    "\n",
    "        datapoint.addVector([lengthNormalize, angleNormalize, speedNormalize])\n",
    "\n",
    "    return vectors"
   ]
  },
  {
   "attachments": {},
   "cell_type": "markdown",
   "metadata": {},
   "source": [
    "# getting the end points"
   ]
  },
  {
   "cell_type": "code",
   "execution_count": 28,
   "metadata": {},
   "outputs": [],
   "source": [
    "# getting end of all vectors\n",
    "def getEnd(vectors, t):\n",
    "    end = np.array([0, 0])\n",
    "    for i in vectors:\n",
    "        end = end + np.array(i.getTimedEndpoint(t))\n",
    "    return end\n",
    "\n",
    "# loop through n frames and return all endpoints\n",
    "def getAllEnds(vectors, n):\n",
    "    ends = []\n",
    "    for i in range(n):\n",
    "        ends.append(list(getEnd(vectors, i)))\n",
    "    return ends"
   ]
  },
  {
   "attachments": {},
   "cell_type": "markdown",
   "metadata": {},
   "source": [
    "# getting the data set"
   ]
  },
  {
   "cell_type": "code",
   "execution_count": 33,
   "metadata": {},
   "outputs": [
    {
     "name": "stdout",
     "output_type": "stream",
     "text": [
      "datapoint #99\n"
     ]
    }
   ],
   "source": [
    "vectorAmount = 10\n",
    "amount       = 100\n",
    "\n",
    "filenamePrefix = f\"dataVectors{vectorAmount}Datapoints{amount}-\"\n",
    "filenameSuffixStart = 0\n",
    "notFound = False\n",
    "\n",
    "while (not notFound):\n",
    "    if (os.path.isfile(f\"./data/{filenamePrefix}{filenameSuffixStart}.json\")):\n",
    "        filenameSuffixStart += 1\n",
    "    else:\n",
    "        notFound = True\n",
    "\n",
    "filename = f\"./data/{filenamePrefix}{filenameSuffixStart}.json\"\n",
    "\n",
    "with open(filename, 'w') as f:\n",
    "    dictEmpty = {}\n",
    "    jsonObject = json.dumps(dictEmpty, indent=4)\n",
    "    f.write(jsonObject)\n",
    "\n",
    "for i in range(amount):\n",
    "\n",
    "    time = random.randint(100, 1000)\n",
    "    newDatapoint = Datapoint(time)\n",
    "\n",
    "    vectors = createVectors(vectorAmount, newDatapoint)\n",
    "    points  = getAllEnds(vectors, time)\n",
    "\n",
    "    newDatapoint.setPoints(points)\n",
    "\n",
    "    dataDict = {\n",
    "        \"points\" : newDatapoint.getPoints(),\n",
    "        \"vectors\" : newDatapoint.getVectors(),\n",
    "        \"time\" : newDatapoint.getTime()\n",
    "    }\n",
    "\n",
    "    with open(filename, 'r+') as f:\n",
    "        data = json.load(f)\n",
    "\n",
    "        if(bool(data)):\n",
    "            maxID = max([int(x) for x in data.keys()])+1\n",
    "        else:\n",
    "            maxID = 0\n",
    "        \n",
    "        data[str(maxID)] = dataDict\n",
    "        f.seek(0)\n",
    "        json.dump(data, f, indent=4)\n",
    "        f.truncate()\n",
    "\n",
    "    clear_output(wait=True)\n",
    "    print(f\"datapoint #{i}\")"
   ]
  },
  {
   "attachments": {},
   "cell_type": "markdown",
   "metadata": {},
   "source": [
    "# Get datapoints by writing everything at once"
   ]
  },
  {
   "cell_type": "code",
   "execution_count": 35,
   "metadata": {},
   "outputs": [
    {
     "name": "stdout",
     "output_type": "stream",
     "text": [
      "datapoint #9\n"
     ]
    }
   ],
   "source": [
    "vectorAmount = 10\n",
    "amount       = 100\n",
    "amountFiles  = 100\n",
    "\n",
    "for j in range(amountFiles):\n",
    "\n",
    "    dictAll = {}\n",
    "\n",
    "    for i in range(amount):\n",
    "\n",
    "        time = random.randint(100, 5000)\n",
    "        newDatapoint = Datapoint(time)\n",
    "\n",
    "        vectors = createVectors(vectorAmount, newDatapoint)\n",
    "        points  = getAllEnds(vectors, time)\n",
    "\n",
    "        newDatapoint.setPoints(points)\n",
    "\n",
    "        dataDict = {\n",
    "            \"points\" : newDatapoint.getPoints(),\n",
    "            \"vectors\" : newDatapoint.getVectors(),\n",
    "            \"time\" : newDatapoint.getTime()\n",
    "        }\n",
    "\n",
    "        dictAll[str(i)] = dataDict\n",
    "\n",
    "        clear_output(wait=True)\n",
    "        print(f\"datapoint #{i}\")\n",
    "\n",
    "    filenamePrefix = f\"dataVectors{vectorAmount}Datapoints{amount}-\"\n",
    "    filenameSuffixStart = 0\n",
    "    notFound = False\n",
    "\n",
    "    while (not notFound):\n",
    "        if (os.path.isfile(f\"./data/{filenamePrefix}{filenameSuffixStart}.json\")):\n",
    "            filenameSuffixStart += 1\n",
    "        else:\n",
    "            notFound = True\n",
    "\n",
    "    filename = f\"./data/{filenamePrefix}{filenameSuffixStart}.json\"\n",
    "\n",
    "    with open(filename, 'w') as f:\n",
    "        jsonObject = json.dumps(dictAll, indent=4)\n",
    "        f.write(jsonObject)"
   ]
  }
 ],
 "metadata": {
  "kernelspec": {
   "display_name": "in3050",
   "language": "python",
   "name": "python3"
  },
  "language_info": {
   "codemirror_mode": {
    "name": "ipython",
    "version": 3
   },
   "file_extension": ".py",
   "mimetype": "text/x-python",
   "name": "python",
   "nbconvert_exporter": "python",
   "pygments_lexer": "ipython3",
   "version": "3.10.9"
  },
  "orig_nbformat": 4
 },
 "nbformat": 4,
 "nbformat_minor": 2
}
